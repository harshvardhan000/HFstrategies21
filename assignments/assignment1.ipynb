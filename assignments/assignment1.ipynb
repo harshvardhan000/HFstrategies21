{
  "nbformat": 4,
  "nbformat_minor": 0,
  "metadata": {
    "kernelspec": {
      "display_name": "Python [conda env:ml4t] *",
      "language": "python",
      "name": "conda-env-ml4t-py"
    },
    "language_info": {
      "codemirror_mode": {
        "name": "ipython",
        "version": 3
      },
      "file_extension": ".py",
      "mimetype": "text/x-python",
      "name": "python",
      "nbconvert_exporter": "python",
      "pygments_lexer": "ipython3",
      "version": "3.8.5"
    },
    "toc": {
      "base_numbering": 1,
      "nav_menu": {},
      "number_sections": true,
      "sideBar": true,
      "skip_h1_title": true,
      "title_cell": "Table of Contents",
      "title_sidebar": "Contents",
      "toc_cell": false,
      "toc_position": {},
      "toc_section_display": true,
      "toc_window_display": true
    },
    "colab": {
      "name": "assignment1.ipynb",
      "provenance": [],
      "include_colab_link": true
    }
  },
  "cells": [
    {
      "cell_type": "markdown",
      "metadata": {
        "id": "view-in-github",
        "colab_type": "text"
      },
      "source": [
        "<a href=\"https://colab.research.google.com/github/tleitch/HFstrategies21/blob/main/assignment1.ipynb\" target=\"_parent\"><img src=\"https://colab.research.google.com/assets/colab-badge.svg\" alt=\"Open In Colab\"/></a>"
      ]
    },
    {
      "cell_type": "markdown",
      "metadata": {
        "id": "KXrlDvwBZhNE"
      },
      "source": [
        "# Remote data access using pandas"
      ]
    },
    {
      "cell_type": "markdown",
      "metadata": {
        "id": "JD61ZQhLZhNG"
      },
      "source": [
        "The pandas library enables access to data displayed on websites using the `read_html()` function and access to the API endpoints of various data providers through the related `pandas-datareader` library."
      ]
    },
    {
      "cell_type": "markdown",
      "metadata": {
        "id": "SwZKL7HeZhNG"
      },
      "source": [
        "## Imports & Settings"
      ]
    },
    {
      "cell_type": "code",
      "metadata": {
        "ExecuteTime": {
          "end_time": "2021-02-23T04:36:41.124896Z",
          "start_time": "2021-02-23T04:36:41.123096Z"
        },
        "id": "1o9i_ZHcZhNH"
      },
      "source": [
        "import warnings\n",
        "warnings.filterwarnings('ignore')"
      ],
      "execution_count": 1,
      "outputs": []
    },
    {
      "cell_type": "code",
      "metadata": {
        "ExecuteTime": {
          "end_time": "2021-02-23T04:36:41.822087Z",
          "start_time": "2021-02-23T04:36:41.267751Z"
        },
        "id": "cXrqULPSZhNH",
        "colab": {
          "base_uri": "https://localhost:8080/"
        },
        "outputId": "e772fab8-120b-43fd-dd0a-465cd826069f"
      },
      "source": [
        "!pip install mplfinance\n",
        "%matplotlib inline\n",
        "import os\n",
        "from datetime import datetime\n",
        "import pandas as pd\n",
        "import pandas_datareader.data as web\n",
        "import matplotlib.pyplot as plt\n",
        "import mplfinance as mpf\n",
        "import seaborn as sns"
      ],
      "execution_count": 2,
      "outputs": [
        {
          "output_type": "stream",
          "text": [
            "Collecting mplfinance\n",
            "\u001b[?25l  Downloading https://files.pythonhosted.org/packages/3f/4e/a3de915df8d112579beb3df22e47b3929670b10e9c5dfd4a2b31bf1a34a7/mplfinance-0.12.7a17-py3-none-any.whl (62kB)\n",
            "\r\u001b[K     |█████▎                          | 10kB 15.4MB/s eta 0:00:01\r\u001b[K     |██████████▌                     | 20kB 14.8MB/s eta 0:00:01\r\u001b[K     |███████████████▊                | 30kB 10.3MB/s eta 0:00:01\r\u001b[K     |█████████████████████           | 40kB 8.8MB/s eta 0:00:01\r\u001b[K     |██████████████████████████▎     | 51kB 5.3MB/s eta 0:00:01\r\u001b[K     |███████████████████████████████▌| 61kB 5.2MB/s eta 0:00:01\r\u001b[K     |████████████████████████████████| 71kB 3.9MB/s \n",
            "\u001b[?25hRequirement already satisfied: pandas in /usr/local/lib/python3.7/dist-packages (from mplfinance) (1.1.5)\n",
            "Requirement already satisfied: matplotlib in /usr/local/lib/python3.7/dist-packages (from mplfinance) (3.2.2)\n",
            "Requirement already satisfied: python-dateutil>=2.7.3 in /usr/local/lib/python3.7/dist-packages (from pandas->mplfinance) (2.8.1)\n",
            "Requirement already satisfied: numpy>=1.15.4 in /usr/local/lib/python3.7/dist-packages (from pandas->mplfinance) (1.19.5)\n",
            "Requirement already satisfied: pytz>=2017.2 in /usr/local/lib/python3.7/dist-packages (from pandas->mplfinance) (2018.9)\n",
            "Requirement already satisfied: cycler>=0.10 in /usr/local/lib/python3.7/dist-packages (from matplotlib->mplfinance) (0.10.0)\n",
            "Requirement already satisfied: pyparsing!=2.0.4,!=2.1.2,!=2.1.6,>=2.0.1 in /usr/local/lib/python3.7/dist-packages (from matplotlib->mplfinance) (2.4.7)\n",
            "Requirement already satisfied: kiwisolver>=1.0.1 in /usr/local/lib/python3.7/dist-packages (from matplotlib->mplfinance) (1.3.1)\n",
            "Requirement already satisfied: six>=1.5 in /usr/local/lib/python3.7/dist-packages (from python-dateutil>=2.7.3->pandas->mplfinance) (1.15.0)\n",
            "Installing collected packages: mplfinance\n",
            "Successfully installed mplfinance-0.12.7a17\n"
          ],
          "name": "stdout"
        }
      ]
    },
    {
      "cell_type": "markdown",
      "metadata": {
        "id": "b45l_2P9ZhNI"
      },
      "source": [
        "## Download html table with SP500 constituents"
      ]
    },
    {
      "cell_type": "markdown",
      "metadata": {
        "id": "nxPhlao5ZhNI"
      },
      "source": [
        "The download of the content of one or more html tables works as follows, for instance for the constituents of the S&P500 index from Wikipedia"
      ]
    },
    {
      "cell_type": "code",
      "metadata": {
        "ExecuteTime": {
          "end_time": "2021-02-23T04:36:45.937804Z",
          "start_time": "2021-02-23T04:36:45.527493Z"
        },
        "id": "1wvFjWleZhNI"
      },
      "source": [
        "sp_url = 'https://en.wikipedia.org/wiki/List_of_S%26P_500_companies'\n",
        "sp500_constituents = pd.read_html(sp_url, header=0)[0]"
      ],
      "execution_count": 3,
      "outputs": []
    },
    {
      "cell_type": "code",
      "metadata": {
        "ExecuteTime": {
          "end_time": "2021-02-23T04:36:45.949932Z",
          "start_time": "2021-02-23T04:36:45.941702Z"
        },
        "scrolled": true,
        "id": "ziXpWs9HZhNI",
        "colab": {
          "base_uri": "https://localhost:8080/"
        },
        "outputId": "c8ca5b2a-f77c-4ed1-9f01-b1675d277537"
      },
      "source": [
        "sp500_constituents.info()"
      ],
      "execution_count": 4,
      "outputs": [
        {
          "output_type": "stream",
          "text": [
            "<class 'pandas.core.frame.DataFrame'>\n",
            "RangeIndex: 505 entries, 0 to 504\n",
            "Data columns (total 9 columns):\n",
            " #   Column                 Non-Null Count  Dtype \n",
            "---  ------                 --------------  ----- \n",
            " 0   Symbol                 505 non-null    object\n",
            " 1   Security               505 non-null    object\n",
            " 2   SEC filings            505 non-null    object\n",
            " 3   GICS Sector            505 non-null    object\n",
            " 4   GICS Sub-Industry      505 non-null    object\n",
            " 5   Headquarters Location  505 non-null    object\n",
            " 6   Date first added       453 non-null    object\n",
            " 7   CIK                    505 non-null    int64 \n",
            " 8   Founded                505 non-null    object\n",
            "dtypes: int64(1), object(8)\n",
            "memory usage: 35.6+ KB\n"
          ],
          "name": "stdout"
        }
      ]
    },
    {
      "cell_type": "code",
      "metadata": {
        "ExecuteTime": {
          "end_time": "2021-02-23T04:36:45.966881Z",
          "start_time": "2021-02-23T04:36:45.951514Z"
        },
        "id": "jbTbmkocZhNK",
        "colab": {
          "base_uri": "https://localhost:8080/",
          "height": 195
        },
        "outputId": "047beef7-046b-48ef-e66a-13b5c21501a8"
      },
      "source": [
        "sp500_constituents.head()"
      ],
      "execution_count": 5,
      "outputs": [
        {
          "output_type": "execute_result",
          "data": {
            "text/html": [
              "<div>\n",
              "<style scoped>\n",
              "    .dataframe tbody tr th:only-of-type {\n",
              "        vertical-align: middle;\n",
              "    }\n",
              "\n",
              "    .dataframe tbody tr th {\n",
              "        vertical-align: top;\n",
              "    }\n",
              "\n",
              "    .dataframe thead th {\n",
              "        text-align: right;\n",
              "    }\n",
              "</style>\n",
              "<table border=\"1\" class=\"dataframe\">\n",
              "  <thead>\n",
              "    <tr style=\"text-align: right;\">\n",
              "      <th></th>\n",
              "      <th>Symbol</th>\n",
              "      <th>Security</th>\n",
              "      <th>SEC filings</th>\n",
              "      <th>GICS Sector</th>\n",
              "      <th>GICS Sub-Industry</th>\n",
              "      <th>Headquarters Location</th>\n",
              "      <th>Date first added</th>\n",
              "      <th>CIK</th>\n",
              "      <th>Founded</th>\n",
              "    </tr>\n",
              "  </thead>\n",
              "  <tbody>\n",
              "    <tr>\n",
              "      <th>0</th>\n",
              "      <td>MMM</td>\n",
              "      <td>3M Company</td>\n",
              "      <td>reports</td>\n",
              "      <td>Industrials</td>\n",
              "      <td>Industrial Conglomerates</td>\n",
              "      <td>St. Paul, Minnesota</td>\n",
              "      <td>1976-08-09</td>\n",
              "      <td>66740</td>\n",
              "      <td>1902</td>\n",
              "    </tr>\n",
              "    <tr>\n",
              "      <th>1</th>\n",
              "      <td>ABT</td>\n",
              "      <td>Abbott Laboratories</td>\n",
              "      <td>reports</td>\n",
              "      <td>Health Care</td>\n",
              "      <td>Health Care Equipment</td>\n",
              "      <td>North Chicago, Illinois</td>\n",
              "      <td>1964-03-31</td>\n",
              "      <td>1800</td>\n",
              "      <td>1888</td>\n",
              "    </tr>\n",
              "    <tr>\n",
              "      <th>2</th>\n",
              "      <td>ABBV</td>\n",
              "      <td>AbbVie Inc.</td>\n",
              "      <td>reports</td>\n",
              "      <td>Health Care</td>\n",
              "      <td>Pharmaceuticals</td>\n",
              "      <td>North Chicago, Illinois</td>\n",
              "      <td>2012-12-31</td>\n",
              "      <td>1551152</td>\n",
              "      <td>2013 (1888)</td>\n",
              "    </tr>\n",
              "    <tr>\n",
              "      <th>3</th>\n",
              "      <td>ABMD</td>\n",
              "      <td>Abiomed</td>\n",
              "      <td>reports</td>\n",
              "      <td>Health Care</td>\n",
              "      <td>Health Care Equipment</td>\n",
              "      <td>Danvers, Massachusetts</td>\n",
              "      <td>2018-05-31</td>\n",
              "      <td>815094</td>\n",
              "      <td>1981</td>\n",
              "    </tr>\n",
              "    <tr>\n",
              "      <th>4</th>\n",
              "      <td>ACN</td>\n",
              "      <td>Accenture</td>\n",
              "      <td>reports</td>\n",
              "      <td>Information Technology</td>\n",
              "      <td>IT Consulting &amp; Other Services</td>\n",
              "      <td>Dublin, Ireland</td>\n",
              "      <td>2011-07-06</td>\n",
              "      <td>1467373</td>\n",
              "      <td>1989</td>\n",
              "    </tr>\n",
              "  </tbody>\n",
              "</table>\n",
              "</div>"
            ],
            "text/plain": [
              "  Symbol             Security  ...      CIK      Founded\n",
              "0    MMM           3M Company  ...    66740         1902\n",
              "1    ABT  Abbott Laboratories  ...     1800         1888\n",
              "2   ABBV          AbbVie Inc.  ...  1551152  2013 (1888)\n",
              "3   ABMD              Abiomed  ...   815094         1981\n",
              "4    ACN            Accenture  ...  1467373         1989\n",
              "\n",
              "[5 rows x 9 columns]"
            ]
          },
          "metadata": {
            "tags": []
          },
          "execution_count": 5
        }
      ]
    },
    {
      "cell_type": "markdown",
      "metadata": {
        "id": "JKgpfh8lZhNK"
      },
      "source": [
        "## pandas-datareader for Market Data"
      ]
    },
    {
      "cell_type": "markdown",
      "metadata": {
        "id": "vgqpjRZhZhNK"
      },
      "source": [
        "`pandas` used to facilitate access to data providers' APIs directly, but this functionality has moved to the related pandas-datareader library. The stability of the APIs varies with provider policies, and as of June 2o18 at version 0.7, the following sources are available"
      ]
    },
    {
      "cell_type": "markdown",
      "metadata": {
        "id": "GMZD34fTZhNL"
      },
      "source": [
        "See [documentation](https://pandas-datareader.readthedocs.io/en/latest/); functionality frequently changes as underlying provider APIs evolve."
      ]
    },
    {
      "cell_type": "markdown",
      "metadata": {
        "id": "w_7kNw09ZhNL"
      },
      "source": [
        "### Yahoo Finance"
      ]
    },
    {
      "cell_type": "code",
      "metadata": {
        "ExecuteTime": {
          "end_time": "2021-02-23T04:36:46.535356Z",
          "start_time": "2021-02-23T04:36:45.968045Z"
        },
        "id": "GiAVgOH-ZhNL",
        "colab": {
          "base_uri": "https://localhost:8080/"
        },
        "outputId": "fc28c455-241c-41bc-d322-40dab70d44a7"
      },
      "source": [
        "start = '2014'\n",
        "end = datetime(2017, 5, 24)\n",
        "\n",
        "yahoo= web.DataReader('FB', 'yahoo', start=start, end=end)\n",
        "yahoo.info()"
      ],
      "execution_count": 6,
      "outputs": [
        {
          "output_type": "stream",
          "text": [
            "<class 'pandas.core.frame.DataFrame'>\n",
            "DatetimeIndex: 855 entries, 2014-01-02 to 2017-05-24\n",
            "Data columns (total 6 columns):\n",
            " #   Column     Non-Null Count  Dtype  \n",
            "---  ------     --------------  -----  \n",
            " 0   High       855 non-null    float64\n",
            " 1   Low        855 non-null    float64\n",
            " 2   Open       855 non-null    float64\n",
            " 3   Close      855 non-null    float64\n",
            " 4   Volume     855 non-null    int64  \n",
            " 5   Adj Close  855 non-null    float64\n",
            "dtypes: float64(5), int64(1)\n",
            "memory usage: 46.8 KB\n"
          ],
          "name": "stdout"
        }
      ]
    },
    {
      "cell_type": "code",
      "metadata": {
        "colab": {
          "base_uri": "https://localhost:8080/",
          "height": 373
        },
        "id": "W0RJwk0JzbUq",
        "outputId": "78c9f483-d4e0-416f-fdbd-766afe6bccc8"
      },
      "source": [
        "yahoo.head(10)"
      ],
      "execution_count": 22,
      "outputs": [
        {
          "output_type": "execute_result",
          "data": {
            "text/html": [
              "<div>\n",
              "<style scoped>\n",
              "    .dataframe tbody tr th:only-of-type {\n",
              "        vertical-align: middle;\n",
              "    }\n",
              "\n",
              "    .dataframe tbody tr th {\n",
              "        vertical-align: top;\n",
              "    }\n",
              "\n",
              "    .dataframe thead th {\n",
              "        text-align: right;\n",
              "    }\n",
              "</style>\n",
              "<table border=\"1\" class=\"dataframe\">\n",
              "  <thead>\n",
              "    <tr style=\"text-align: right;\">\n",
              "      <th></th>\n",
              "      <th>High</th>\n",
              "      <th>Low</th>\n",
              "      <th>Open</th>\n",
              "      <th>Close</th>\n",
              "      <th>Volume</th>\n",
              "      <th>Adj Close</th>\n",
              "    </tr>\n",
              "    <tr>\n",
              "      <th>Date</th>\n",
              "      <th></th>\n",
              "      <th></th>\n",
              "      <th></th>\n",
              "      <th></th>\n",
              "      <th></th>\n",
              "      <th></th>\n",
              "    </tr>\n",
              "  </thead>\n",
              "  <tbody>\n",
              "    <tr>\n",
              "      <th>2014-01-02</th>\n",
              "      <td>55.220001</td>\n",
              "      <td>54.189999</td>\n",
              "      <td>54.830002</td>\n",
              "      <td>54.709999</td>\n",
              "      <td>43195500</td>\n",
              "      <td>54.709999</td>\n",
              "    </tr>\n",
              "    <tr>\n",
              "      <th>2014-01-03</th>\n",
              "      <td>55.650002</td>\n",
              "      <td>54.529999</td>\n",
              "      <td>55.020000</td>\n",
              "      <td>54.560001</td>\n",
              "      <td>38246200</td>\n",
              "      <td>54.560001</td>\n",
              "    </tr>\n",
              "    <tr>\n",
              "      <th>2014-01-06</th>\n",
              "      <td>57.259998</td>\n",
              "      <td>54.049999</td>\n",
              "      <td>54.419998</td>\n",
              "      <td>57.200001</td>\n",
              "      <td>68852600</td>\n",
              "      <td>57.200001</td>\n",
              "    </tr>\n",
              "    <tr>\n",
              "      <th>2014-01-07</th>\n",
              "      <td>58.549999</td>\n",
              "      <td>57.220001</td>\n",
              "      <td>57.700001</td>\n",
              "      <td>57.919998</td>\n",
              "      <td>77207400</td>\n",
              "      <td>57.919998</td>\n",
              "    </tr>\n",
              "    <tr>\n",
              "      <th>2014-01-08</th>\n",
              "      <td>58.410000</td>\n",
              "      <td>57.230000</td>\n",
              "      <td>57.599998</td>\n",
              "      <td>58.230000</td>\n",
              "      <td>56682400</td>\n",
              "      <td>58.230000</td>\n",
              "    </tr>\n",
              "    <tr>\n",
              "      <th>2014-01-09</th>\n",
              "      <td>58.959999</td>\n",
              "      <td>56.650002</td>\n",
              "      <td>58.650002</td>\n",
              "      <td>57.220001</td>\n",
              "      <td>92253300</td>\n",
              "      <td>57.220001</td>\n",
              "    </tr>\n",
              "    <tr>\n",
              "      <th>2014-01-10</th>\n",
              "      <td>58.299999</td>\n",
              "      <td>57.060001</td>\n",
              "      <td>57.130001</td>\n",
              "      <td>57.939999</td>\n",
              "      <td>42449500</td>\n",
              "      <td>57.939999</td>\n",
              "    </tr>\n",
              "    <tr>\n",
              "      <th>2014-01-13</th>\n",
              "      <td>58.250000</td>\n",
              "      <td>55.380001</td>\n",
              "      <td>57.910000</td>\n",
              "      <td>55.910000</td>\n",
              "      <td>63010900</td>\n",
              "      <td>55.910000</td>\n",
              "    </tr>\n",
              "    <tr>\n",
              "      <th>2014-01-14</th>\n",
              "      <td>57.779999</td>\n",
              "      <td>56.099998</td>\n",
              "      <td>56.459999</td>\n",
              "      <td>57.740002</td>\n",
              "      <td>37503600</td>\n",
              "      <td>57.740002</td>\n",
              "    </tr>\n",
              "    <tr>\n",
              "      <th>2014-01-15</th>\n",
              "      <td>58.570000</td>\n",
              "      <td>57.270000</td>\n",
              "      <td>57.980000</td>\n",
              "      <td>57.599998</td>\n",
              "      <td>33663400</td>\n",
              "      <td>57.599998</td>\n",
              "    </tr>\n",
              "  </tbody>\n",
              "</table>\n",
              "</div>"
            ],
            "text/plain": [
              "                 High        Low       Open      Close    Volume  Adj Close\n",
              "Date                                                                       \n",
              "2014-01-02  55.220001  54.189999  54.830002  54.709999  43195500  54.709999\n",
              "2014-01-03  55.650002  54.529999  55.020000  54.560001  38246200  54.560001\n",
              "2014-01-06  57.259998  54.049999  54.419998  57.200001  68852600  57.200001\n",
              "2014-01-07  58.549999  57.220001  57.700001  57.919998  77207400  57.919998\n",
              "2014-01-08  58.410000  57.230000  57.599998  58.230000  56682400  58.230000\n",
              "2014-01-09  58.959999  56.650002  58.650002  57.220001  92253300  57.220001\n",
              "2014-01-10  58.299999  57.060001  57.130001  57.939999  42449500  57.939999\n",
              "2014-01-13  58.250000  55.380001  57.910000  55.910000  63010900  55.910000\n",
              "2014-01-14  57.779999  56.099998  56.459999  57.740002  37503600  57.740002\n",
              "2014-01-15  58.570000  57.270000  57.980000  57.599998  33663400  57.599998"
            ]
          },
          "metadata": {
            "tags": []
          },
          "execution_count": 22
        }
      ]
    },
    {
      "cell_type": "code",
      "metadata": {
        "ExecuteTime": {
          "end_time": "2021-02-23T04:36:46.695297Z",
          "start_time": "2021-02-23T04:36:46.536332Z"
        },
        "id": "RLRvMXkWZhNL",
        "colab": {
          "base_uri": "https://localhost:8080/",
          "height": 524
        },
        "outputId": "2cb62d7a-f714-42ad-cc22-f086a58ff999"
      },
      "source": [
        "mpf.plot(yahoo, type='candle')"
      ],
      "execution_count": 25,
      "outputs": [
        {
          "output_type": "display_data",
          "data": {
            "image/png": "[encoded data removed]",
            "text/plain": [
              "<Figure size 800x575 with 2 Axes>"
            ]
          },
          "metadata": {
            "tags": []
          }
        }
      ]
    },
    {
      "cell_type": "markdown",
      "metadata": {
        "id": "FKR9mSskr3PA"
      },
      "source": [
        "# Assignment 1 starts here\n",
        "Pick another security from the S&P 500 and plot it only this time use up to today's date. Use example above as baseline to start with.\n",
        "\n",
        "**mplfinance** is package that specializes in plotting financial time series. Information on it can be found here: https://github.com/matplotlib/mplfinance\n"
      ]
    },
    {
      "cell_type": "code",
      "metadata": {
        "id": "V7Tdz1xu9lOK"
      },
      "source": [
        "## Data load code here\n"
      ],
      "execution_count": 8,
      "outputs": []
    },
    {
      "cell_type": "code",
      "metadata": {
        "id": "sieV3l_e-C32"
      },
      "source": [
        "## Plot code here"
      ],
      "execution_count": 9,
      "outputs": []
    },
    {
      "cell_type": "markdown",
      "metadata": {
        "id": "HgyNeO3V-SJ1"
      },
      "source": [
        "Now pick another symbol and plot it but this time using the information on the github repo add a 20 and 50 day moving average\n"
      ]
    },
    {
      "cell_type": "code",
      "metadata": {
        "id": "fT3883Rx-in8"
      },
      "source": [
        "## Load data here"
      ],
      "execution_count": 10,
      "outputs": []
    },
    {
      "cell_type": "code",
      "metadata": {
        "id": "Vh5SdtOQ-ldB"
      },
      "source": [
        "## Plot time series with moving averages"
      ],
      "execution_count": 11,
      "outputs": []
    },
    {
      "cell_type": "markdown",
      "metadata": {
        "id": "nqlt5DRAUbcL"
      },
      "source": [
        "Now load multiple tickers and try to plot them on same graph"
      ]
    },
    {
      "cell_type": "code",
      "metadata": {
        "id": "vK-ZKM3KUhqZ"
      },
      "source": [
        "# Load tickers here"
      ],
      "execution_count": 12,
      "outputs": []
    },
    {
      "cell_type": "code",
      "metadata": {
        "id": "pkCx4bXfUa_4"
      },
      "source": [
        "# Multi plot here\n"
      ],
      "execution_count": 13,
      "outputs": []
    },
    {
      "cell_type": "markdown",
      "metadata": {
        "id": "Y9Nnf16nDg51"
      },
      "source": [
        "# Assignment 1 continued\n",
        "Unfortunately mplfinance requires a specific structure for the data to be useful, so if you move away from open/high/low/close  dataframes you need to use a more basic package. matplotlib is the common but seaborn is better and more capable, so we'll use it here.\n",
        "\n",
        "Also, by using the datetime package we can easily slice our data in time using just simple text strings fir dates"
      ]
    },
    {
      "cell_type": "markdown",
      "metadata": {
        "id": "ZaSvcdZyZhNR"
      },
      "source": [
        "### FRED"
      ]
    },
    {
      "cell_type": "code",
      "metadata": {
        "ExecuteTime": {
          "end_time": "2021-02-23T04:36:49.389817Z",
          "start_time": "2021-02-23T04:36:49.224612Z"
        },
        "id": "53PVw-9xZhNS",
        "colab": {
          "base_uri": "https://localhost:8080/"
        },
        "outputId": "819a6aa3-07b8-4f71-fc67-25f9408aff51"
      },
      "source": [
        "# We will use datetime tso we can time slice the dataframes\n",
        "import datetime\n",
        "\n",
        "\n",
        "start = datetime.datetime (2005, 5, 1)\n",
        "end = datetime.datetime (2021, 6, 1)\n",
        "\n",
        "inflation = web.DataReader(['CPIAUCSL', 'CPILFESL'], 'fred', start, end)\n",
        "inflation.info()"
      ],
      "execution_count": 14,
      "outputs": [
        {
          "output_type": "stream",
          "text": [
            "<class 'pandas.core.frame.DataFrame'>\n",
            "DatetimeIndex: 192 entries, 2005-05-01 to 2021-04-01\n",
            "Data columns (total 2 columns):\n",
            " #   Column    Non-Null Count  Dtype  \n",
            "---  ------    --------------  -----  \n",
            " 0   CPIAUCSL  192 non-null    float64\n",
            " 1   CPILFESL  192 non-null    float64\n",
            "dtypes: float64(2)\n",
            "memory usage: 4.5 KB\n"
          ],
          "name": "stdout"
        }
      ]
    },
    {
      "cell_type": "code",
      "metadata": {
        "id": "DbuCOx2GDKuc",
        "colab": {
          "base_uri": "https://localhost:8080/"
        },
        "outputId": "e3113395-c32b-48bf-ba89-f981f6b35732"
      },
      "source": [
        "inflation.head()['CPIAUCSL']"
      ],
      "execution_count": 28,
      "outputs": [
        {
          "output_type": "execute_result",
          "data": {
            "text/plain": [
              "DATE\n",
              "2005-05-01    193.6\n",
              "2005-06-01    193.7\n",
              "2005-07-01    194.9\n",
              "2005-08-01    196.1\n",
              "2005-09-01    198.8\n",
              "Name: CPIAUCSL, dtype: float64"
            ]
          },
          "metadata": {
            "tags": []
          },
          "execution_count": 28
        }
      ]
    },
    {
      "cell_type": "code",
      "metadata": {
        "id": "b7idAGB8BU2E",
        "outputId": "8c9525e8-e371-4cd4-d34e-4ea1b82ee8ba",
        "colab": {
          "base_uri": "https://localhost:8080/"
        }
      },
      "source": [
        ""
      ],
      "execution_count": 27,
      "outputs": [
        {
          "output_type": "execute_result",
          "data": {
            "text/plain": [
              "DATE\n",
              "2005-05-01    193.6\n",
              "2005-06-01    193.7\n",
              "2005-07-01    194.9\n",
              "2005-08-01    196.1\n",
              "2005-09-01    198.8\n",
              "Name: CPIAUCSL, dtype: float64"
            ]
          },
          "metadata": {
            "tags": []
          },
          "execution_count": 27
        }
      ]
    },
    {
      "cell_type": "code",
      "metadata": {
        "id": "KDs_V3_uEu9F",
        "colab": {
          "base_uri": "https://localhost:8080/",
          "height": 471
        },
        "outputId": "3af8eb03-f29f-47c9-883b-5c77c7fbc4b3"
      },
      "source": [
        "import seaborn as sns\n",
        "# simple time series plot\n",
        "sns.lineplot(data = inflation[\"CPIAUCSL\"])"
      ],
      "execution_count": 16,
      "outputs": [
        {
          "output_type": "execute_result",
          "data": {
            "text/plain": [
              "<matplotlib.axes._subplots.AxesSubplot at 0x7fc18da6e950>"
            ]
          },
          "metadata": {
            "tags": []
          },
          "execution_count": 16
        },
        {
          "output_type": "display_data",
          "data": {
            "image/png": "[encoded data removed]",
            "text/plain": [
              "<Figure size 640x480 with 1 Axes>"
            ]
          },
          "metadata": {
            "tags": []
          }
        }
      ]
    },
    {
      "cell_type": "markdown",
      "metadata": {
        "id": "Zn-MdoS9VLXi"
      },
      "source": [
        "Now we'll time slice our data by creating a slice bewteen the begining of 2016 and up to the last day of 2021 (which hasn't happened, so it will default to last date in the time series"
      ]
    },
    {
      "cell_type": "code",
      "metadata": {
        "id": "-iHCCDQYGDyR",
        "colab": {
          "base_uri": "https://localhost:8080/",
          "height": 468
        },
        "outputId": "b4eaa52d-8a8d-43a8-df56-c7a7db7b91c6"
      },
      "source": [
        "drange = inflation.loc[\"2016\": \"2021\"]\n",
        "sns.lineplot(data = drange[\"CPIAUCSL\"])"
      ],
      "execution_count": 17,
      "outputs": [
        {
          "output_type": "execute_result",
          "data": {
            "text/plain": [
              "<matplotlib.axes._subplots.AxesSubplot at 0x7fc184cddfd0>"
            ]
          },
          "metadata": {
            "tags": []
          },
          "execution_count": 17
        },
        {
          "output_type": "display_data",
          "data": {
            "image/png": "[encoded data removed]",
            "text/plain": [
              "<Figure size 640x480 with 1 Axes>"
            ]
          },
          "metadata": {
            "tags": []
          }
        }
      ]
    },
    {
      "cell_type": "code",
      "metadata": {
        "id": "DrXmdasaGgdM",
        "colab": {
          "base_uri": "https://localhost:8080/",
          "height": 468
        },
        "outputId": "2ff66733-d159-453c-f954-beb69cd2af80"
      },
      "source": [
        "# can use specific dates for range\n",
        "drange = inflation.loc[\"2016-06-15\": \"2020-12-31\"]\n",
        "sns.lineplot(data = drange[\"CPIAUCSL\"])"
      ],
      "execution_count": 18,
      "outputs": [
        {
          "output_type": "execute_result",
          "data": {
            "text/plain": [
              "<matplotlib.axes._subplots.AxesSubplot at 0x7fc184c4cc90>"
            ]
          },
          "metadata": {
            "tags": []
          },
          "execution_count": 18
        },
        {
          "output_type": "display_data",
          "data": {
            "image/png": "[encoded data removed]",
            "text/plain": [
              "<Figure size 640x480 with 1 Axes>"
            ]
          },
          "metadata": {
            "tags": []
          }
        }
      ]
    },
    {
      "cell_type": "markdown",
      "metadata": {
        "id": "EENtmBvdT5gL"
      },
      "source": [
        "Now pick another ticker from FRED, say an interest rate or economic factor and plot it using seaborn using the time frame of 2006 to 2012"
      ]
    },
    {
      "cell_type": "code",
      "metadata": {
        "id": "bI9RmMo4T4sB"
      },
      "source": [
        "# Data load goes here\n"
      ],
      "execution_count": 19,
      "outputs": []
    },
    {
      "cell_type": "code",
      "metadata": {
        "id": "pcPryCCjUOCj"
      },
      "source": [
        "# Plot code goes here\n"
      ],
      "execution_count": 20,
      "outputs": []
    },
    {
      "cell_type": "code",
      "metadata": {
        "id": "RC1JK4LKW2rO",
        "colab": {
          "base_uri": "https://localhost:8080/"
        },
        "outputId": "debe7473-2966-4b27-ad12-e69fd0ed15de"
      },
      "source": [
        "1\n"
      ],
      "execution_count": 21,
      "outputs": [
        {
          "output_type": "execute_result",
          "data": {
            "text/plain": [
              "1"
            ]
          },
          "metadata": {
            "tags": []
          },
          "execution_count": 21
        }
      ]
    }
  ]
}